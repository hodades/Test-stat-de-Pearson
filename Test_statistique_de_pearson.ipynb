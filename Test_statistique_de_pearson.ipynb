{
  "nbformat": 4,
  "nbformat_minor": 0,
  "metadata": {
    "colab": {
      "provenance": [],
      "authorship_tag": "ABX9TyPbZdMktGNnEmcFebJKNYrL",
      "include_colab_link": true
    },
    "kernelspec": {
      "name": "python3",
      "display_name": "Python 3"
    },
    "language_info": {
      "name": "python"
    }
  },
  "cells": [
    {
      "cell_type": "markdown",
      "metadata": {
        "id": "view-in-github",
        "colab_type": "text"
      },
      "source": [
        "<a href=\"https://colab.research.google.com/github/hodades/Test-stat-de-Pearson/blob/main/Test_statistique_de_pearson.ipynb\" target=\"_parent\"><img src=\"https://colab.research.google.com/assets/colab-badge.svg\" alt=\"Open In Colab\"/></a>"
      ]
    },
    {
      "cell_type": "markdown",
      "source": [
        "# Importation des librairies"
      ],
      "metadata": {
        "id": "_YR1flwNW5l7"
      }
    },
    {
      "cell_type": "code",
      "execution_count": 5,
      "metadata": {
        "id": "YAkg-P6NW4rg"
      },
      "outputs": [],
      "source": [
        "import numpy as np\n",
        "import pandas as pd\n",
        "import matplotlib.pyplot as plt\n",
        "from scipy.stats import linregress\n"
      ]
    },
    {
      "cell_type": "markdown",
      "source": [
        " # Créer le tableau des données"
      ],
      "metadata": {
        "id": "R91drwSuXOtU"
      }
    },
    {
      "cell_type": "code",
      "source": [
        "# Charger le fichier CSV\n",
        "file_path = '/content/population_1985.csv'\n",
        "df = pd.read_csv(file_path, encoding='ISO-8859-1')\n",
        "\n",
        "# Afficher les premières lignes pour vérifier le contenu\n",
        "df.head()"
      ],
      "metadata": {
        "colab": {
          "base_uri": "https://localhost:8080/",
          "height": 206
        },
        "id": "je4iXJhnjnuI",
        "outputId": "3bde0955-6c37-4a9a-bb73-0adbf02cea77"
      },
      "execution_count": 6,
      "outputs": [
        {
          "output_type": "execute_result",
          "data": {
            "text/plain": [
              "   Observations         Pays  Taux d'urbanisation  Taux de natalite\n",
              "0             1       Canada                55.00              16.2\n",
              "1             2   Costa-Rica                27.30              30.5\n",
              "2             3         Cuba                33.33              16.9\n",
              "3             4          USA                56.50              16.0\n",
              "4             5  El Salvador                11.50              40.2"
            ],
            "text/html": [
              "\n",
              "  <div id=\"df-97d140fb-5117-4b3a-aed1-be676289efbc\" class=\"colab-df-container\">\n",
              "    <div>\n",
              "<style scoped>\n",
              "    .dataframe tbody tr th:only-of-type {\n",
              "        vertical-align: middle;\n",
              "    }\n",
              "\n",
              "    .dataframe tbody tr th {\n",
              "        vertical-align: top;\n",
              "    }\n",
              "\n",
              "    .dataframe thead th {\n",
              "        text-align: right;\n",
              "    }\n",
              "</style>\n",
              "<table border=\"1\" class=\"dataframe\">\n",
              "  <thead>\n",
              "    <tr style=\"text-align: right;\">\n",
              "      <th></th>\n",
              "      <th>Observations</th>\n",
              "      <th>Pays</th>\n",
              "      <th>Taux d'urbanisation</th>\n",
              "      <th>Taux de natalite</th>\n",
              "    </tr>\n",
              "  </thead>\n",
              "  <tbody>\n",
              "    <tr>\n",
              "      <th>0</th>\n",
              "      <td>1</td>\n",
              "      <td>Canada</td>\n",
              "      <td>55.00</td>\n",
              "      <td>16.2</td>\n",
              "    </tr>\n",
              "    <tr>\n",
              "      <th>1</th>\n",
              "      <td>2</td>\n",
              "      <td>Costa-Rica</td>\n",
              "      <td>27.30</td>\n",
              "      <td>30.5</td>\n",
              "    </tr>\n",
              "    <tr>\n",
              "      <th>2</th>\n",
              "      <td>3</td>\n",
              "      <td>Cuba</td>\n",
              "      <td>33.33</td>\n",
              "      <td>16.9</td>\n",
              "    </tr>\n",
              "    <tr>\n",
              "      <th>3</th>\n",
              "      <td>4</td>\n",
              "      <td>USA</td>\n",
              "      <td>56.50</td>\n",
              "      <td>16.0</td>\n",
              "    </tr>\n",
              "    <tr>\n",
              "      <th>4</th>\n",
              "      <td>5</td>\n",
              "      <td>El Salvador</td>\n",
              "      <td>11.50</td>\n",
              "      <td>40.2</td>\n",
              "    </tr>\n",
              "  </tbody>\n",
              "</table>\n",
              "</div>\n",
              "    <div class=\"colab-df-buttons\">\n",
              "\n",
              "  <div class=\"colab-df-container\">\n",
              "    <button class=\"colab-df-convert\" onclick=\"convertToInteractive('df-97d140fb-5117-4b3a-aed1-be676289efbc')\"\n",
              "            title=\"Convert this dataframe to an interactive table.\"\n",
              "            style=\"display:none;\">\n",
              "\n",
              "  <svg xmlns=\"http://www.w3.org/2000/svg\" height=\"24px\" viewBox=\"0 -960 960 960\">\n",
              "    <path d=\"M120-120v-720h720v720H120Zm60-500h600v-160H180v160Zm220 220h160v-160H400v160Zm0 220h160v-160H400v160ZM180-400h160v-160H180v160Zm440 0h160v-160H620v160ZM180-180h160v-160H180v160Zm440 0h160v-160H620v160Z\"/>\n",
              "  </svg>\n",
              "    </button>\n",
              "\n",
              "  <style>\n",
              "    .colab-df-container {\n",
              "      display:flex;\n",
              "      gap: 12px;\n",
              "    }\n",
              "\n",
              "    .colab-df-convert {\n",
              "      background-color: #E8F0FE;\n",
              "      border: none;\n",
              "      border-radius: 50%;\n",
              "      cursor: pointer;\n",
              "      display: none;\n",
              "      fill: #1967D2;\n",
              "      height: 32px;\n",
              "      padding: 0 0 0 0;\n",
              "      width: 32px;\n",
              "    }\n",
              "\n",
              "    .colab-df-convert:hover {\n",
              "      background-color: #E2EBFA;\n",
              "      box-shadow: 0px 1px 2px rgba(60, 64, 67, 0.3), 0px 1px 3px 1px rgba(60, 64, 67, 0.15);\n",
              "      fill: #174EA6;\n",
              "    }\n",
              "\n",
              "    .colab-df-buttons div {\n",
              "      margin-bottom: 4px;\n",
              "    }\n",
              "\n",
              "    [theme=dark] .colab-df-convert {\n",
              "      background-color: #3B4455;\n",
              "      fill: #D2E3FC;\n",
              "    }\n",
              "\n",
              "    [theme=dark] .colab-df-convert:hover {\n",
              "      background-color: #434B5C;\n",
              "      box-shadow: 0px 1px 3px 1px rgba(0, 0, 0, 0.15);\n",
              "      filter: drop-shadow(0px 1px 2px rgba(0, 0, 0, 0.3));\n",
              "      fill: #FFFFFF;\n",
              "    }\n",
              "  </style>\n",
              "\n",
              "    <script>\n",
              "      const buttonEl =\n",
              "        document.querySelector('#df-97d140fb-5117-4b3a-aed1-be676289efbc button.colab-df-convert');\n",
              "      buttonEl.style.display =\n",
              "        google.colab.kernel.accessAllowed ? 'block' : 'none';\n",
              "\n",
              "      async function convertToInteractive(key) {\n",
              "        const element = document.querySelector('#df-97d140fb-5117-4b3a-aed1-be676289efbc');\n",
              "        const dataTable =\n",
              "          await google.colab.kernel.invokeFunction('convertToInteractive',\n",
              "                                                    [key], {});\n",
              "        if (!dataTable) return;\n",
              "\n",
              "        const docLinkHtml = 'Like what you see? Visit the ' +\n",
              "          '<a target=\"_blank\" href=https://colab.research.google.com/notebooks/data_table.ipynb>data table notebook</a>'\n",
              "          + ' to learn more about interactive tables.';\n",
              "        element.innerHTML = '';\n",
              "        dataTable['output_type'] = 'display_data';\n",
              "        await google.colab.output.renderOutput(dataTable, element);\n",
              "        const docLink = document.createElement('div');\n",
              "        docLink.innerHTML = docLinkHtml;\n",
              "        element.appendChild(docLink);\n",
              "      }\n",
              "    </script>\n",
              "  </div>\n",
              "\n",
              "\n",
              "<div id=\"df-2b3f8dae-ade6-4860-9ec5-63b3a5d98060\">\n",
              "  <button class=\"colab-df-quickchart\" onclick=\"quickchart('df-2b3f8dae-ade6-4860-9ec5-63b3a5d98060')\"\n",
              "            title=\"Suggest charts\"\n",
              "            style=\"display:none;\">\n",
              "\n",
              "<svg xmlns=\"http://www.w3.org/2000/svg\" height=\"24px\"viewBox=\"0 0 24 24\"\n",
              "     width=\"24px\">\n",
              "    <g>\n",
              "        <path d=\"M19 3H5c-1.1 0-2 .9-2 2v14c0 1.1.9 2 2 2h14c1.1 0 2-.9 2-2V5c0-1.1-.9-2-2-2zM9 17H7v-7h2v7zm4 0h-2V7h2v10zm4 0h-2v-4h2v4z\"/>\n",
              "    </g>\n",
              "</svg>\n",
              "  </button>\n",
              "\n",
              "<style>\n",
              "  .colab-df-quickchart {\n",
              "      --bg-color: #E8F0FE;\n",
              "      --fill-color: #1967D2;\n",
              "      --hover-bg-color: #E2EBFA;\n",
              "      --hover-fill-color: #174EA6;\n",
              "      --disabled-fill-color: #AAA;\n",
              "      --disabled-bg-color: #DDD;\n",
              "  }\n",
              "\n",
              "  [theme=dark] .colab-df-quickchart {\n",
              "      --bg-color: #3B4455;\n",
              "      --fill-color: #D2E3FC;\n",
              "      --hover-bg-color: #434B5C;\n",
              "      --hover-fill-color: #FFFFFF;\n",
              "      --disabled-bg-color: #3B4455;\n",
              "      --disabled-fill-color: #666;\n",
              "  }\n",
              "\n",
              "  .colab-df-quickchart {\n",
              "    background-color: var(--bg-color);\n",
              "    border: none;\n",
              "    border-radius: 50%;\n",
              "    cursor: pointer;\n",
              "    display: none;\n",
              "    fill: var(--fill-color);\n",
              "    height: 32px;\n",
              "    padding: 0;\n",
              "    width: 32px;\n",
              "  }\n",
              "\n",
              "  .colab-df-quickchart:hover {\n",
              "    background-color: var(--hover-bg-color);\n",
              "    box-shadow: 0 1px 2px rgba(60, 64, 67, 0.3), 0 1px 3px 1px rgba(60, 64, 67, 0.15);\n",
              "    fill: var(--button-hover-fill-color);\n",
              "  }\n",
              "\n",
              "  .colab-df-quickchart-complete:disabled,\n",
              "  .colab-df-quickchart-complete:disabled:hover {\n",
              "    background-color: var(--disabled-bg-color);\n",
              "    fill: var(--disabled-fill-color);\n",
              "    box-shadow: none;\n",
              "  }\n",
              "\n",
              "  .colab-df-spinner {\n",
              "    border: 2px solid var(--fill-color);\n",
              "    border-color: transparent;\n",
              "    border-bottom-color: var(--fill-color);\n",
              "    animation:\n",
              "      spin 1s steps(1) infinite;\n",
              "  }\n",
              "\n",
              "  @keyframes spin {\n",
              "    0% {\n",
              "      border-color: transparent;\n",
              "      border-bottom-color: var(--fill-color);\n",
              "      border-left-color: var(--fill-color);\n",
              "    }\n",
              "    20% {\n",
              "      border-color: transparent;\n",
              "      border-left-color: var(--fill-color);\n",
              "      border-top-color: var(--fill-color);\n",
              "    }\n",
              "    30% {\n",
              "      border-color: transparent;\n",
              "      border-left-color: var(--fill-color);\n",
              "      border-top-color: var(--fill-color);\n",
              "      border-right-color: var(--fill-color);\n",
              "    }\n",
              "    40% {\n",
              "      border-color: transparent;\n",
              "      border-right-color: var(--fill-color);\n",
              "      border-top-color: var(--fill-color);\n",
              "    }\n",
              "    60% {\n",
              "      border-color: transparent;\n",
              "      border-right-color: var(--fill-color);\n",
              "    }\n",
              "    80% {\n",
              "      border-color: transparent;\n",
              "      border-right-color: var(--fill-color);\n",
              "      border-bottom-color: var(--fill-color);\n",
              "    }\n",
              "    90% {\n",
              "      border-color: transparent;\n",
              "      border-bottom-color: var(--fill-color);\n",
              "    }\n",
              "  }\n",
              "</style>\n",
              "\n",
              "  <script>\n",
              "    async function quickchart(key) {\n",
              "      const quickchartButtonEl =\n",
              "        document.querySelector('#' + key + ' button');\n",
              "      quickchartButtonEl.disabled = true;  // To prevent multiple clicks.\n",
              "      quickchartButtonEl.classList.add('colab-df-spinner');\n",
              "      try {\n",
              "        const charts = await google.colab.kernel.invokeFunction(\n",
              "            'suggestCharts', [key], {});\n",
              "      } catch (error) {\n",
              "        console.error('Error during call to suggestCharts:', error);\n",
              "      }\n",
              "      quickchartButtonEl.classList.remove('colab-df-spinner');\n",
              "      quickchartButtonEl.classList.add('colab-df-quickchart-complete');\n",
              "    }\n",
              "    (() => {\n",
              "      let quickchartButtonEl =\n",
              "        document.querySelector('#df-2b3f8dae-ade6-4860-9ec5-63b3a5d98060 button');\n",
              "      quickchartButtonEl.style.display =\n",
              "        google.colab.kernel.accessAllowed ? 'block' : 'none';\n",
              "    })();\n",
              "  </script>\n",
              "</div>\n",
              "\n",
              "    </div>\n",
              "  </div>\n"
            ],
            "application/vnd.google.colaboratory.intrinsic+json": {
              "type": "dataframe",
              "variable_name": "df",
              "summary": "{\n  \"name\": \"df\",\n  \"rows\": 14,\n  \"fields\": [\n    {\n      \"column\": \"Observations\",\n      \"properties\": {\n        \"dtype\": \"number\",\n        \"std\": 4,\n        \"min\": 1,\n        \"max\": 14,\n        \"num_unique_values\": 14,\n        \"samples\": [\n          10,\n          12,\n          1\n        ],\n        \"semantic_type\": \"\",\n        \"description\": \"\"\n      }\n    },\n    {\n      \"column\": \"Pays\",\n      \"properties\": {\n        \"dtype\": \"string\",\n        \"num_unique_values\": 14,\n        \"samples\": [\n          \"Mexique\",\n          \"Trimidade\",\n          \"Canada\"\n        ],\n        \"semantic_type\": \"\",\n        \"description\": \"\"\n      }\n    },\n    {\n      \"column\": \"Taux d'urbanisation\",\n      \"properties\": {\n        \"dtype\": \"number\",\n        \"std\": 15.569152316235906,\n        \"min\": 6.8,\n        \"max\": 56.5,\n        \"num_unique_values\": 14,\n        \"samples\": [\n          43.2,\n          6.8,\n          55.0\n        ],\n        \"semantic_type\": \"\",\n        \"description\": \"\"\n      }\n    },\n    {\n      \"column\": \"Taux de natalite\",\n      \"properties\": {\n        \"dtype\": \"number\",\n        \"std\": 9.996727486510796,\n        \"min\": 16.0,\n        \"max\": 44.2,\n        \"num_unique_values\": 14,\n        \"samples\": [\n          33.9,\n          24.6,\n          16.2\n        ],\n        \"semantic_type\": \"\",\n        \"description\": \"\"\n      }\n    }\n  ]\n}"
            }
          },
          "metadata": {},
          "execution_count": 6
        }
      ]
    },
    {
      "cell_type": "markdown",
      "source": [
        "a) moyenne b) valeur max"
      ],
      "metadata": {
        "id": "WUp1Elhqkpp5"
      }
    },
    {
      "cell_type": "code",
      "source": [
        "# Moyenne\n",
        "mean_urbanisation = df[\"Taux d'urbanisation\"].mean()\n",
        "mean_natalite = df[\"Taux de natalite\"].mean()\n",
        "\n",
        "# Valeur max\n",
        "max_urbanisation = df[\"Taux d'urbanisation\"].max()\n",
        "max_natalite = df[\"Taux de natalite\"].max()\n",
        "\n",
        "print(\"Moyenne du taux d'urbanisation :\", mean_urbanisation)\n",
        "print(\"Moyenne du taux de natalite :\", mean_natalite)\n",
        "print(\"Valeur max du taux d'urbanisation :\", max_urbanisation)\n",
        "print(\"Valeur max du taux de natalite :\", max_natalite)\n"
      ],
      "metadata": {
        "colab": {
          "base_uri": "https://localhost:8080/"
        },
        "id": "1jIGomhJktJ1",
        "outputId": "06850ed9-ce68-4a07-e3fe-77c98a667124"
      },
      "execution_count": 12,
      "outputs": [
        {
          "output_type": "stream",
          "name": "stdout",
          "text": [
            "Moyenne du taux d'urbanisation : 29.794999999999998\n",
            "Moyenne du taux de natalite : 31.107142857142858\n",
            "Valeur max du taux d'urbanisation : 56.5\n",
            "Valeur max du taux de natalite : 44.2\n"
          ]
        }
      ]
    },
    {
      "cell_type": "markdown",
      "source": [
        "3) indépendance des variables"
      ],
      "metadata": {
        "id": "QOee5KoKlhhc"
      }
    },
    {
      "cell_type": "code",
      "source": [
        "correlation = df[\"Taux d'urbanisation\"].corr(df[\"Taux de natalite\"])\n",
        "print(\"Coefficient de corrélation :\", correlation)\n"
      ],
      "metadata": {
        "colab": {
          "base_uri": "https://localhost:8080/"
        },
        "id": "-f_JiEsClmqM",
        "outputId": "ab681d30-c963-45c5-b2f8-8c17a070e140"
      },
      "execution_count": 13,
      "outputs": [
        {
          "output_type": "stream",
          "name": "stdout",
          "text": [
            "Coefficient de corrélation : -0.6213752012398909\n"
          ]
        }
      ]
    },
    {
      "cell_type": "markdown",
      "source": [
        "Ce coefficient négatif suggère une relation inverse entre les deux variables, mais il ne signifie pas une indépendance complète. Cette relation pourrait s'expliquer par des facteurs socio-économiques : dans des zones plus urbanisées, le taux de natalité peut être plus faible en raison des différences dans le style de vie, les priorités familiales, et les ressources disponibles. Cependant, d'autres variables pourraient également influencer cette relation, et cette corrélation n'implique pas une causalité stricte."
      ],
      "metadata": {
        "id": "msDi-VlOl_1q"
      }
    },
    {
      "cell_type": "markdown",
      "source": [
        "e) Graphique X en fonction de Y"
      ],
      "metadata": {
        "id": "mFx1pSKPmjxP"
      }
    },
    {
      "cell_type": "code",
      "source": [
        "plt.scatter(df[\"Taux d'urbanisation\"], df[\"Taux de natalite\"])\n",
        "plt.xlabel(\"Taux d'urbanisation (%)\")\n",
        "plt.ylabel(\"Taux de natalité (pour 1000 habitants)\")\n",
        "plt.title(\"Nuage de points : Taux d'urbanisation vs Taux de natalité\")\n",
        "plt.show()\n"
      ],
      "metadata": {
        "colab": {
          "base_uri": "https://localhost:8080/",
          "height": 472
        },
        "id": "9IH2OcCVmr85",
        "outputId": "2404975d-b513-419b-d2ad-1d53634e601a"
      },
      "execution_count": 15,
      "outputs": [
        {
          "output_type": "display_data",
          "data": {
            "text/plain": [
              "<Figure size 640x480 with 1 Axes>"
            ],
            "image/png": "[encoded data removed]"
          },
          "metadata": {}
        }
      ]
    },
    {
      "cell_type": "markdown",
      "source": [
        "f) equation"
      ],
      "metadata": {
        "id": "OQQIKlF1mxWG"
      }
    },
    {
      "cell_type": "code",
      "source": [
        "slope, intercept, r_value, p_value, std_err = linregress(df[\"Taux d'urbanisation\"], df[\"Taux de natalite\"])\n",
        "\n",
        "print(\"Équation de la droite de régression : y = {:.2f}x + {:.2f}\".format(slope, intercept))\n"
      ],
      "metadata": {
        "colab": {
          "base_uri": "https://localhost:8080/"
        },
        "id": "kzvN4P6tmzRB",
        "outputId": "8ad964bf-a9f5-4e45-ff49-d8b516e65a87"
      },
      "execution_count": 17,
      "outputs": [
        {
          "output_type": "stream",
          "name": "stdout",
          "text": [
            "Équation de la droite de régression : y = -0.40x + 42.99\n"
          ]
        }
      ]
    },
    {
      "cell_type": "markdown",
      "source": [
        "g) tracder la droite"
      ],
      "metadata": {
        "id": "arNot07Hm9Au"
      }
    },
    {
      "cell_type": "code",
      "source": [
        "# Nuage de points\n",
        "plt.scatter(df[\"Taux d'urbanisation\"], df[\"Taux de natalite\"], label=\"Données\")\n",
        "\n",
        "# Tracé de la droite de régression\n",
        "regression_line = intercept + slope * df[\"Taux d'urbanisation\"]\n",
        "plt.plot(df[\"Taux d'urbanisation\"], regression_line, color='red', label=\"Droite de régression\")\n",
        "\n",
        "plt.xlabel(\"Taux d'urbanisation (%)\")\n",
        "plt.ylabel(\"Taux de natalité (pour 1000 habitants)\")\n",
        "plt.legend()\n",
        "plt.title(\"Régression linéaire : Taux d'urbanisation vs Taux de natalité\")\n",
        "plt.show()\n"
      ],
      "metadata": {
        "colab": {
          "base_uri": "https://localhost:8080/",
          "height": 472
        },
        "id": "XtF_qYtom_Um",
        "outputId": "aedc3b85-a352-438e-9d93-bd77c5f7a702"
      },
      "execution_count": 19,
      "outputs": [
        {
          "output_type": "display_data",
          "data": {
            "text/plain": [
              "<Figure size 640x480 with 1 Axes>"
            ],
            "image/png": "[encoded data removed]"
          },
          "metadata": {}
        }
      ]
    },
    {
      "cell_type": "markdown",
      "source": [
        "La pente négative de\n",
        "−\n",
        "0.40\n",
        "−0.40 et le coefficient de corrélation de\n",
        "−\n",
        "0.62\n",
        "−0.62 montrent une relation inverse modérée entre le taux d'urbanisation et le taux de natalité : plus l'urbanisation augmente, plus la natalité diminue. Cela signifie que les deux variables ne sont pas indépendantes. Cependant, cette corrélation modérée indique que d'autres facteurs peuvent aussi influencer le taux de natalité."
      ],
      "metadata": {
        "id": "732Qdz9JY6VV"
      }
    },
    {
      "cell_type": "markdown",
      "source": [],
      "metadata": {
        "id": "5UK6YJZ5nWs5"
      }
    },
    {
      "cell_type": "markdown",
      "source": [],
      "metadata": {
        "id": "PrfYL5ruZBnE"
      }
    },
    {
      "cell_type": "markdown",
      "source": [],
      "metadata": {
        "id": "BCACit55Y5i_"
      }
    }
  ]
}